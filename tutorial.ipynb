{
 "cells": [
  {
   "attachments": {},
   "cell_type": "markdown",
   "metadata": {},
   "source": [
    "Install requirements: pip install -r requirements.txt"
   ]
  },
  {
   "attachments": {},
   "cell_type": "markdown",
   "metadata": {},
   "source": [
    "Run each algorithm once on a simple instance with three arms and one constraint "
   ]
  },
  {
   "cell_type": "code",
   "execution_count": 13,
   "metadata": {},
   "outputs": [],
   "source": [
    "import numpy as np\n",
    "from constraint_explore import TnS, CGE, UniformExplorer, run_exploration_experiment, get_policy, GaussianBandit, run_imdb_exp"
   ]
  },
  {
   "cell_type": "code",
   "execution_count": 11,
   "metadata": {},
   "outputs": [
    {
     "name": "stdout",
     "output_type": "stream",
     "text": [
      " Optimal Policy: [0.  0.5 0.5]\n",
      "Uniform Explorer: Stopped at 7381 with Correct Policy: True Average time: 0.0009160975004143709\n",
      "Game Explorer: Stopped at 3485 with Correct Policy: True Average time: 0.004437300464515194\n",
      "Track-n-Stop: Stopped at 4105 with Correct Policy: True Average time: 0.005503986988230251\n"
     ]
    }
   ],
   "source": [
    "seed = 0\n",
    "delta = 0.1\n",
    "\n",
    "mu = np.array([0.92, 0.91, 0.8])\n",
    "A = np.array([[5, 1, 0]])\n",
    "b = np.array([0.5])\n",
    "\n",
    "optimal_policy, _ = get_policy(mu, A, b)\n",
    "print(f' Optimal Policy: {optimal_policy}')\n",
    "\n",
    "dist_type = 'Gaussian'\n",
    "explorer = UniformExplorer(len(mu), A=A, b=b, delta=delta, restricted_exploration=True, seed=seed, dist_type=dist_type)\n",
    "bandit = GaussianBandit(mu, noise=1, seed=seed)\n",
    "t, correct, _, _, avg_t = run_exploration_experiment(bandit, explorer, A, b)\n",
    "print(f'Uniform Explorer: Stopped at {t} with Correct Policy: {correct} Average time: {avg_t}')\n",
    "\n",
    "explorer = CGE(len(mu), A=A, b=b, delta=delta, restricted_exploration=True, dist_type=dist_type)\n",
    "bandit = GaussianBandit(mu, noise=1)\n",
    "t, correct, _, _, avg_t = run_exploration_experiment(bandit, explorer, A, b)\n",
    "print(f'Game Explorer: Stopped at {t} with Correct Policy: {correct} Average time: {avg_t}')\n",
    "\n",
    "explorer = TnS(len(mu), A=A, b=b, delta=delta, restricted_exploration=True, dist_type=dist_type)\n",
    "bandit = GaussianBandit(mu, noise=1)\n",
    "t, correct, _, _, avg_t = run_exploration_experiment(bandit, explorer, A, b)\n",
    "print(f'Track-n-Stop: Stopped at {t} with Correct Policy: {correct} Average time: {avg_t}')"
   ]
  },
  {
   "attachments": {},
   "cell_type": "markdown",
   "metadata": {},
   "source": [
    "Example with IMDB env and 4 arms"
   ]
  },
  {
   "cell_type": "code",
   "execution_count": 34,
   "metadata": {},
   "outputs": [
    {
     "name": "stdout",
     "output_type": "stream",
     "text": [
      "Optimal Policy:  [0.3 0.7 0.  0. ]\n"
     ]
    }
   ],
   "source": [
    "from IMDB.imdb_utils import get_env\n",
    "\n",
    "n_movies = 4\n",
    "seed = 1\n",
    "delta = 0.001\n",
    "spec = {\n",
    "    'action': ('<', 0.3),\n",
    "    'drama': ('>', 0.3),\n",
    "    'family': ('>', 0.3)\n",
    "}\n",
    "\n",
    "\n",
    "imdb, A, b = get_env(n_movies, spec=spec, seed=seed)\n",
    "means = imdb.get_means()\n",
    "sigma = imdb.get_std()\n",
    "optimal_policy,aux  = get_policy(means.values, A=A, b=b)\n",
    "print('Optimal Policy: ', optimal_policy)"
   ]
  },
  {
   "cell_type": "code",
   "execution_count": 35,
   "metadata": {},
   "outputs": [
    {
     "name": "stdout",
     "output_type": "stream",
     "text": [
      "Uniform: Stopped at 15844 with correct policy True\n",
      "CGE: Stopped at 9068 with correct policy True\n",
      "Track-n-Stop: Stopped at 5552 with correct policy True\n"
     ]
    }
   ],
   "source": [
    "uniform = UniformExplorer(n_movies, A=A, b=b, delta=delta, restricted_exploration=False, sigma=sigma)\n",
    "t, correct, optimal_policy, policy, _ = run_imdb_exp(imdb, uniform, A, b)\n",
    "print(f'Uniform: Stopped at {t} with correct policy {correct}')\n",
    "\n",
    "cge = CGE(n_movies, A=A, b=b, delta=delta, restricted_exploration=False, sigma=sigma)\n",
    "t, correct,_, _, _ = run_imdb_exp(imdb, cge, A, b)\n",
    "print(f'CGE: Stopped at {t} with correct policy {correct}')\n",
    "\n",
    "tns = TnS(n_movies, A=A, b=b, delta=delta, restricted_exploration=False, sigma=sigma)\n",
    "t, correct, optimal_policy, policy, _ = run_imdb_exp(imdb, tns, A, b)\n",
    "print(f'Track-n-Stop: Stopped at {t} with correct policy {correct}')"
   ]
  }
 ],
 "metadata": {
  "kernelspec": {
   "display_name": "Python 3",
   "language": "python",
   "name": "python3"
  },
  "language_info": {
   "codemirror_mode": {
    "name": "ipython",
    "version": 3
   },
   "file_extension": ".py",
   "mimetype": "text/x-python",
   "name": "python",
   "nbconvert_exporter": "python",
   "pygments_lexer": "ipython3",
   "version": "3.10.9"
  },
  "orig_nbformat": 4
 },
 "nbformat": 4,
 "nbformat_minor": 2
}
